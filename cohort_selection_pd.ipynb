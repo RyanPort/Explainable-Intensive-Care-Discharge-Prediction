{
 "cells": [
  {
   "cell_type": "code",
   "execution_count": 136,
   "metadata": {
    "tags": []
   },
   "outputs": [],
   "source": [
    "import numpy as np\n",
    "import pandas as pd\n",
    "import pickle"
   ]
  },
  {
   "cell_type": "code",
   "execution_count": 137,
   "metadata": {
    "tags": []
   },
   "outputs": [],
   "source": [
    "icu_stays = pd.read_pickle('pickle_vars/icustays.pkl.xz')\n",
    "patients = pd.read_pickle('pickle_vars/patients.pkl.xz')\n",
    "admissions = pd.read_pickle('pickle_vars/admissions.pkl.xz')"
   ]
  },
  {
   "cell_type": "code",
   "execution_count": 138,
   "metadata": {
    "tags": []
   },
   "outputs": [],
   "source": [
    "data = icu_stays[((icu_stays.FIRST_CAREUNIT == 'MICU') | (icu_stays.FIRST_CAREUNIT == 'SICU')) & (icu_stays.DBSOURCE == 'metavision')][[\"SUBJECT_ID\", \"HADM_ID\",\"ICUSTAY_ID\",\"INTIME\",\"OUTTIME\"]]\n",
    "data = data.merge(admissions[[\"HOSPITAL_EXPIRE_FLAG\",\"DEATHTIME\",\"HADM_ID\"]], on='HADM_ID')\n",
    "data = data.merge(patients, on='SUBJECT_ID') "
   ]
  },
  {
   "cell_type": "code",
   "execution_count": 139,
   "metadata": {
    "tags": []
   },
   "outputs": [],
   "source": [
    "gdata = data"
   ]
  },
  {
   "cell_type": "code",
   "execution_count": 140,
   "metadata": {
    "tags": []
   },
   "outputs": [
    {
     "name": "stdout",
     "output_type": "stream",
     "text": [
      "There are: \n",
      "11007 patients,\n",
      "13748 hospitals admissions, and\n",
      "14595 intensive care stays.\n"
     ]
    }
   ],
   "source": [
    "print(\"There are: \")\n",
    "print(str(len(gdata['SUBJECT_ID'].unique())) + \" patients,\")\n",
    "print(str(len(gdata['HADM_ID'].unique())) + \" hospitals admissions, and\")\n",
    "print(str(len(gdata['ICUSTAY_ID'].unique())) + \" intensive care stays.\")"
   ]
  },
  {
   "cell_type": "code",
   "execution_count": 141,
   "metadata": {},
   "outputs": [],
   "source": [
    "gdata_grouped = gdata.groupby('HADM_ID', as_index=False).agg(SUBJECT_ID=('SUBJECT_ID', np.mean),\n",
    "                                                             FIRST_INTIME=('INTIME', min),\n",
    "                                                             STAYS_COUNT=('ICUSTAY_ID', pd.Series.count),\n",
    "                                                             #FIRST_STAY=('INTIME', min),\n",
    "                                                             MORTALITY=('HOSPITAL_EXPIRE_FLAG', max))"
   ]
  },
  {
   "cell_type": "code",
   "execution_count": 142,
   "metadata": {},
   "outputs": [],
   "source": [
    "# This is a slightly hacky way of getting the first_stay_id\n",
    "gdata_grouped = gdata_grouped.merge(gdata[[\"ICUSTAY_ID\", \"INTIME\"]], left_on=\"FIRST_INTIME\", right_on=\"INTIME\")\n",
    "gdata_grouped.drop(columns=[\"INTIME\"],inplace=True)\n",
    "gdata_grouped.rename(columns={\"ICUSTAY_ID\": 'FIRST_STAY_ID'},inplace=True)"
   ]
  },
  {
   "cell_type": "code",
   "execution_count": 143,
   "metadata": {},
   "outputs": [],
   "source": [
    "ic_count = dict()\n",
    "first_stays = dict()\n",
    "intimes = dict()\n",
    "\n",
    "for index, row in gdata_grouped.iterrows():\n",
    "    ic_count[row['HADM_ID']] = row['STAYS_COUNT']\n",
    "    intimes[row['HADM_ID']] = row['FIRST_INTIME']\n",
    "    first_stays[row['HADM_ID']] = row['FIRST_STAY_ID']"
   ]
  },
  {
   "cell_type": "code",
   "execution_count": 144,
   "metadata": {},
   "outputs": [
    {
     "name": "stdout",
     "output_type": "stream",
     "text": [
      "13748\n",
      "1681\n"
     ]
    }
   ],
   "source": [
    "print(len(gdata_grouped))\n",
    "print(sum(gdata_grouped['MORTALITY']==1))\n",
    "mortality_list = list(gdata_grouped[gdata_grouped['MORTALITY']==1]['HADM_ID'])"
   ]
  },
  {
   "cell_type": "code",
   "execution_count": 145,
   "metadata": {},
   "outputs": [
    {
     "name": "stdout",
     "output_type": "stream",
     "text": [
      "0 mortalities have no DEATHTIME recorded.\n",
      " \n",
      "There are 1922 recorded death times.\n",
      "Of these, 1279 occur on ICU.\n"
     ]
    }
   ],
   "source": [
    "print(\"%d mortalities have no DEATHTIME recorded.\" %sum(gdata[gdata['DEATHTIME']==None ]['HOSPITAL_EXPIRE_FLAG']==1))\n",
    "print(\" \")\n",
    "\n",
    "_mortalities = gdata[gdata['DEATHTIME'].notnull()]\n",
    "ic_deaths = _mortalities.apply(lambda row: row['ICUSTAY_ID'] if row['DEATHTIME'] <= row['OUTTIME'] else -1, axis=1)\n",
    "ic_deaths = [i for i in ic_deaths if i!=-1]\n",
    "\n",
    "print(\"There are %d recorded death times.\" %len(_mortalities))\n",
    "print(\"Of these, %d occur on ICU.\" %len(ic_deaths))"
   ]
  },
  {
   "cell_type": "code",
   "execution_count": 146,
   "metadata": {},
   "outputs": [],
   "source": [
    "## These are dictionaries:\n",
    "f = open('pickle_vars/first_stays.pkl', 'wb')\n",
    "pickle.dump(first_stays, f)\n",
    "f.close()\n",
    "\n",
    "f = open('pickle_vars/stay_counts.pkl', 'wb')\n",
    "pickle.dump(ic_count, f)\n",
    "f.close()\n",
    "\n",
    "## These are lists:\n",
    "f = open('pickle_vars/mortalities.pkl', 'wb')\n",
    "pickle.dump(mortality_list, f)\n",
    "f.close()\n",
    "\n",
    "f = open('pickle_vars/icu_deaths.pkl', 'wb')\n",
    "pickle.dump(ic_deaths, f)\n",
    "f.close()"
   ]
  },
  {
   "cell_type": "code",
   "execution_count": 147,
   "metadata": {},
   "outputs": [
    {
     "name": "stdout",
     "output_type": "stream",
     "text": [
      "742\n",
      "80\n"
     ]
    }
   ],
   "source": [
    "more_than_one_stay = (np.asarray(list(ic_count.values()))>1).sum()\n",
    "more_than_two_stay = (np.asarray(list(ic_count.values()))>2).sum()\n",
    "print(more_than_one_stay)\n",
    "print(more_than_two_stay)"
   ]
  },
  {
   "cell_type": "code",
   "execution_count": 148,
   "metadata": {},
   "outputs": [
    {
     "data": {
      "text/plain": [
       "0.0539714867617108"
      ]
     },
     "execution_count": 148,
     "metadata": {},
     "output_type": "execute_result"
    }
   ],
   "source": [
    "## Readmission rate:\n",
    "more_than_one_stay/float(len(gdata['HADM_ID'].unique()))"
   ]
  },
  {
   "cell_type": "code",
   "execution_count": 149,
   "metadata": {},
   "outputs": [
    {
     "data": {
      "text/plain": [
       "0.12227233052080302"
      ]
     },
     "execution_count": 149,
     "metadata": {},
     "output_type": "execute_result"
    }
   ],
   "source": [
    "## Overall mortality\n",
    "len(mortality_list)/float(len(gdata['HADM_ID'].unique()))"
   ]
  },
  {
   "cell_type": "code",
   "execution_count": 150,
   "metadata": {},
   "outputs": [
    {
     "name": "stdout",
     "output_type": "stream",
     "text": [
      "0.2601078167115903\n"
     ]
    }
   ],
   "source": [
    "## Readmission mortality:\n",
    "death=0\n",
    "for mortality in mortality_list:\n",
    "    if ic_count[mortality]>1:\n",
    "        death+=1\n",
    "        \n",
    "readmit_mort = death/float((np.asarray(list(ic_count.values()))>1).sum())\n",
    "print(readmit_mort)"
   ]
  },
  {
   "cell_type": "code",
   "execution_count": 151,
   "metadata": {
    "tags": []
   },
   "outputs": [
    {
     "name": "stdout",
     "output_type": "stream",
     "text": [
      "0.11440873443026296\n"
     ]
    }
   ],
   "source": [
    "## Single stay mortality:\n",
    "death=0\n",
    "for mortality in mortality_list:\n",
    "    if ic_count[mortality]==1:\n",
    "        death+=1\n",
    "        \n",
    "single_mort = death/float((np.asarray(list(ic_count.values()))==1).sum())\n",
    "print(single_mort)"
   ]
  }
 ],
 "metadata": {
  "kernelspec": {
   "display_name": "Python 3 (ipykernel)",
   "language": "python",
   "name": "python3"
  },
  "language_info": {
   "codemirror_mode": {
    "name": "ipython",
    "version": 3
   },
   "file_extension": ".py",
   "mimetype": "text/x-python",
   "name": "python",
   "nbconvert_exporter": "python",
   "pygments_lexer": "ipython3",
   "version": "3.11.5"
  },
  "toc-showtags": false
 },
 "nbformat": 4,
 "nbformat_minor": 4
}
