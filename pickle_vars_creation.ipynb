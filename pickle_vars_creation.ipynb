{
 "cells": [
  {
   "cell_type": "code",
   "execution_count": 17,
   "metadata": {
    "tags": []
   },
   "outputs": [],
   "source": [
    "import pandas as pd"
   ]
  },
  {
   "cell_type": "markdown",
   "metadata": {},
   "source": [
    "Import hosp and icu data and store as a dictionaries of dataframes\n",
    "Save each df as a pickle file for quicker loading"
   ]
  },
  {
   "cell_type": "code",
   "execution_count": 18,
   "metadata": {
    "tags": []
   },
   "outputs": [],
   "source": [
    "path = '/Users/gw19304/physionet.org/files/mimiciii/1.4/'"
   ]
  },
  {
   "cell_type": "markdown",
   "metadata": {},
   "source": [
    "Import table, convert datetime data, save to compressed pickle"
   ]
  },
  {
   "cell_type": "code",
   "execution_count": 19,
   "metadata": {},
   "outputs": [],
   "source": [
    "patients = pd.read_csv(path + 'PATIENTS.csv.gz')\n",
    "patients.DOB = pd.to_datetime(patients.DOB)\n",
    "patients.DOD = pd.to_datetime(patients.DOD)\n",
    "patients.DOD_HOSP = pd.to_datetime(patients.DOD_HOSP)\n",
    "patients.DOD_SSN = pd.to_datetime(patients.DOD_SSN)\n",
    "patients.to_pickle('pickle_vars/patients.pkl.xz')\n",
    "\n",
    "admissions = pd.read_csv(path + 'ADMISSIONS.csv.gz')\n",
    "admissions.ADMITTIME = pd.to_datetime(admissions.ADMITTIME)\n",
    "admissions.DISCHTIME = pd.to_datetime(admissions.DISCHTIME)\n",
    "admissions.DEATHTIME = pd.to_datetime(admissions.DEATHTIME)\n",
    "admissions.EDREGTIME = pd.to_datetime(admissions.EDREGTIME)\n",
    "admissions.EDOUTTIME = pd.to_datetime(admissions.EDOUTTIME)\n",
    "admissions.to_pickle('pickle_vars/admissions.pkl.xz')\n",
    "\n",
    "transfers = pd.read_csv(path + 'TRANSFERS.csv.gz')\n",
    "transfers.INTIME = pd.to_datetime(transfers.INTIME)\n",
    "transfers.OUTTIME = pd.to_datetime(transfers.OUTTIME)\n",
    "transfers.to_pickle('pickle_vars/transfers.pkl.xz')\n",
    "\n",
    "icustays = pd.read_csv(path + 'ICUSTAYS.csv.gz')\n",
    "icustays.INTIME = pd.to_datetime(icustays.INTIME)\n",
    "icustays.OUTTIME = pd.to_datetime(icustays.OUTTIME)\n",
    "icustays.to_pickle('pickle_vars/icustays.pkl.xz')\n",
    "\n",
    "d_items = pd.read_csv(path + 'D_ITEMS.csv.gz')\n",
    "d_items.to_pickle('pickle_vars/d_items.pkl.xz')\n",
    "\n",
    "callout = pd.read_csv(path + 'CALLOUT.csv.gz')\n",
    "callout.CREATETIME = pd.to_datetime(callout.CREATETIME)\n",
    "callout.UPDATETIME = pd.to_datetime(callout.UPDATETIME)\n",
    "callout.OUTCOMETIME = pd.to_datetime(callout.OUTCOMETIME)\n",
    "callout.FIRSTRESERVATIONTIME = pd.to_datetime(callout.FIRSTRESERVATIONTIME)\n",
    "callout.CURRENTRESERVATIONTIME = pd.to_datetime(callout.CURRENTRESERVATIONTIME)\n",
    "callout.to_pickle('pickle_vars/callout.pkl.xz')"
   ]
  },
  {
   "cell_type": "code",
   "execution_count": 23,
   "metadata": {
    "tags": []
   },
   "outputs": [
    {
     "name": "stderr",
     "output_type": "stream",
     "text": [
      "/var/folders/vm/ktq2315x1m5gbg84trfh4gz00000gw/T/ipykernel_59584/3339785851.py:1: DtypeWarning: Columns (8,10,13,14) have mixed types. Specify dtype option on import or set low_memory=False.\n",
      "  chartevents = pd.read_csv(path + 'CHARTEVENTS.csv.gz')\n"
     ]
    }
   ],
   "source": [
    "chartevents = pd.read_csv(path + 'CHARTEVENTS.csv.gz')\n",
    "chartevents.CHARTTIME = pd.to_datetime(chartevents.CHARTTIME)\n",
    "chartevents.STORETIME = pd.to_datetime(chartevents.STORETIME)\n",
    "chartevents.to_pickle('pickle_vars/chartevents.pkl.xz')"
   ]
  }
 ],
 "metadata": {
  "kernelspec": {
   "display_name": "Python 3 (ipykernel)",
   "language": "python",
   "name": "python3"
  },
  "language_info": {
   "codemirror_mode": {
    "name": "ipython",
    "version": 3
   },
   "file_extension": ".py",
   "mimetype": "text/x-python",
   "name": "python",
   "nbconvert_exporter": "python",
   "pygments_lexer": "ipython3",
   "version": "3.11.5"
  }
 },
 "nbformat": 4,
 "nbformat_minor": 4
}
