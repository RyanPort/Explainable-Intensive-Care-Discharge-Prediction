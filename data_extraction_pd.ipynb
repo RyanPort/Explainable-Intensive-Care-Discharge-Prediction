{
 "cells": [
  {
   "cell_type": "markdown",
   "id": "1801f20c-bbd8-490d-ae8c-f0e09e2f70be",
   "metadata": {},
   "source": [
    "Import packages"
   ]
  },
  {
   "cell_type": "code",
   "execution_count": 70,
   "id": "5d45c5c2-6e70-4ea4-bc3b-3fb24ad034db",
   "metadata": {
    "tags": []
   },
   "outputs": [],
   "source": [
    "import numpy as np\n",
    "import pandas as pd"
   ]
  },
  {
   "cell_type": "code",
   "execution_count": 71,
   "id": "f2762f26-abbd-4677-b5b7-753c09aefd0a",
   "metadata": {
    "tags": []
   },
   "outputs": [],
   "source": [
    "pd.reset_option('all')\n",
    "pd.set_option('display.max_columns', None)"
   ]
  },
  {
   "cell_type": "markdown",
   "id": "1870a64e-2dda-45f4-a115-7da95fcaa118",
   "metadata": {},
   "source": [
    "Load in required tables from pickle_vars folder"
   ]
  },
  {
   "cell_type": "code",
   "execution_count": 72,
   "id": "6db3dcf8-4255-461f-bad0-f94da0b415e0",
   "metadata": {
    "tags": []
   },
   "outputs": [],
   "source": [
    "icu_stays = pd.read_pickle('pickle_vars/icustays.pkl.xz')\n",
    "d_items = pd.read_pickle('pickle_vars/d_items.pkl.xz')\n",
    "patients = pd.read_pickle('pickle_vars/patients.pkl.xz')\n",
    "admissions = pd.read_pickle('pickle_vars/admissions.pkl.xz')\n",
    "chartevents = pd.read_pickle('pickle_vars/chartevents.pkl.xz')"
   ]
  },
  {
   "cell_type": "markdown",
   "id": "6819bd3a-a39c-4036-8bb7-370cf1666447",
   "metadata": {},
   "source": [
    "Create list of ITEM_IDs which correspond to measurements of the required variables. The list of IDs is taken directly from TDS."
   ]
  },
  {
   "cell_type": "code",
   "execution_count": 73,
   "id": "947d2286-28a9-4e28-8b9c-0c9cd093dafe",
   "metadata": {
    "tags": []
   },
   "outputs": [],
   "source": [
    "variable_mapping_dict = {'pain': [223791], 'temp': [223761, 223762, 224027], 'hr': [220045], 'fio2': [227009, 223835], 'resp': [220210, 224688, 224689, 224690], 'airway': [223838, 224832, 224391, 227810, 223837, 224829], 'po2': [226770, 227039, 227516, 220224], 'hco3': [224826, 227443], 'peep': [220339, 224699, 224700], 'gcs': [220739, 223900, 223901, 227011, 227012, 227014, 228112], 'pco2': [220235, 226062, 226063], 'na': [220645, 226534], 'bun': [225624], 'bp': [220050, 220179, 225309, 226850, 226852, 228151], 'creatinine': [220615], 'k': [220640, 227464, 227442, 226535], 'spo2': [220227, 220277, 226860, 226861, 226862, 226863, 226865, 228232], 'haemoglobin': [220228], 'weight': [762, 226512], 'height': [226730, 920, 1394, 4187, 3486, 3485, 4188]}\n",
    "variable_mapping_list = list(variable_mapping_dict.values())\n",
    "itemid_list = np.concatenate(variable_mapping_list, dtype = int, casting='unsafe').ravel().tolist()"
   ]
  },
  {
   "cell_type": "markdown",
   "id": "ff9b8ba9-1ee6-4a05-b217-4c96438ae817",
   "metadata": {},
   "source": [
    "Query chartevents for rows containing only ITEM_IDs from itemid_list"
   ]
  },
  {
   "cell_type": "code",
   "execution_count": 74,
   "id": "ac827eee-f53f-4d9b-a250-63c9af6bff77",
   "metadata": {
    "tags": []
   },
   "outputs": [],
   "source": [
    "#mask = chartevents['ITEMID'].isin(itemid_list)\n",
    "#df = chartevents[mask]\n",
    "df = chartevents.query('ITEMID.isin(@itemid_list)')"
   ]
  },
  {
   "cell_type": "markdown",
   "id": "600ac970-0c83-48cf-a056-0d0d91ee220b",
   "metadata": {},
   "source": [
    "Merge data with icu_stays['INTIME', 'OUTTIME', 'LOS'], and with d_items['LABEL', 'UNITNAME']"
   ]
  },
  {
   "cell_type": "code",
   "execution_count": 75,
   "id": "be4c0c3d-bb4a-4f4a-9ed9-774060312e5e",
   "metadata": {
    "tags": []
   },
   "outputs": [],
   "source": [
    "df = df.merge(icu_stays[['ICUSTAY_ID','INTIME','OUTTIME','LOS']], on='ICUSTAY_ID')\n",
    "df = df.merge(d_items[['ITEMID','LABEL','UNITNAME']], on='ITEMID')"
   ]
  },
  {
   "cell_type": "markdown",
   "id": "bd6b3d71-fa2e-4fdf-aa64-99389f06b843",
   "metadata": {},
   "source": [
    "Merge with patients table to get DOB and. GENDER, rename GENDER to sex and encode to binary"
   ]
  },
  {
   "cell_type": "code",
   "execution_count": 76,
   "id": "ea9e736a-6af1-4721-b2ef-80b6c807c041",
   "metadata": {
    "tags": []
   },
   "outputs": [],
   "source": [
    "df = df.merge(patients[['SUBJECT_ID','GENDER','DOB']], on='SUBJECT_ID')\n",
    "df['sex'] = df.GENDER.replace({'F': 1, 'M': 0})\n",
    "df = df.drop(columns='GENDER')"
   ]
  },
  {
   "cell_type": "markdown",
   "id": "f5450457-c3ab-4fef-9bd1-5f952f9e6066",
   "metadata": {},
   "source": [
    "Calculate Age"
   ]
  },
  {
   "cell_type": "code",
   "execution_count": 77,
   "id": "10873d36-5a31-4491-961c-23104c2ac2d4",
   "metadata": {
    "tags": []
   },
   "outputs": [],
   "source": [
    "df['age'] = df.apply(lambda s: (s['INTIME'].to_pydatetime()-s['DOB'].to_pydatetime()).days // 365.0, axis=1)"
   ]
  },
  {
   "cell_type": "markdown",
   "id": "ec2f6850-0b5a-4519-866f-b8b5768f3b60",
   "metadata": {},
   "source": [
    "Select only data from MICU, SICU and Metavision"
   ]
  },
  {
   "cell_type": "code",
   "execution_count": 78,
   "id": "2bb287a0-9183-421d-8bac-51967ecdc041",
   "metadata": {
    "tags": []
   },
   "outputs": [],
   "source": [
    "MICU_GICU_META_IDs = icu_stays[((icu_stays.FIRST_CAREUNIT == 'MICU') | (icu_stays.FIRST_CAREUNIT == 'SICU')) & (icu_stays.DBSOURCE == 'metavision')][['ICUSTAY_ID','HADM_ID']]\n",
    "df = df[(df.ICUSTAY_ID.isin(MICU_GICU_META_IDs.ICUSTAY_ID)) & (df.HADM_ID.isin(MICU_GICU_META_IDs.HADM_ID))]"
   ]
  },
  {
   "cell_type": "markdown",
   "id": "cfd648d9-7a65-4bbe-abaa-a04f116f964d",
   "metadata": {},
   "source": [
    "Add column for hours before discharge: hrs_bd"
   ]
  },
  {
   "cell_type": "code",
   "execution_count": 79,
   "id": "141941d7-cfb5-4474-af71-e04a8c7e5b70",
   "metadata": {
    "tags": []
   },
   "outputs": [],
   "source": [
    "df['hrs_bd'] = (df['OUTTIME'] - df['CHARTTIME']).dt.total_seconds()/3600"
   ]
  },
  {
   "cell_type": "markdown",
   "id": "15f348c5-7936-4a3d-bc4e-c925fd862800",
   "metadata": {},
   "source": [
    "Add column for hours since admission: hrs_SA"
   ]
  },
  {
   "cell_type": "code",
   "execution_count": 80,
   "id": "88de5d1e-d9dc-492a-91e3-1d8fc0993f37",
   "metadata": {
    "tags": []
   },
   "outputs": [],
   "source": [
    "df['hrs_SA'] = (df['CHARTTIME'] - df['INTIME']).dt.total_seconds()/3600"
   ]
  },
  {
   "cell_type": "markdown",
   "id": "e754c351-d566-4b3c-b477-6795f6567794",
   "metadata": {},
   "source": [
    "Add following columns\n",
    "* ['outcome']: binary flag. 1 indicates good outcome (survival with no readmission). 0 indicates bad outcome (death or readmission).\n",
    "* ['in_h_death']: binary flag. 1 for death. 0 for survival.\n",
    "* ['in_icu_death']: binary flag. 1 for death. 0 for survival.\n",
    "* ['readmit']: integer. Number of readmissions to icu during same hospital admission."
   ]
  },
  {
   "cell_type": "code",
   "execution_count": 81,
   "id": "405d764e-4a8f-4494-a0dc-59febae45d61",
   "metadata": {
    "tags": []
   },
   "outputs": [],
   "source": [
    "first_stays_dict = pd.read_pickle('pickle_vars/first_stays.pkl') # HADM_ID:ICUSTAY_ID\n",
    "\n",
    "mortalities = pd.read_pickle('pickle_vars/mortalities.pkl') # List\n",
    "\n",
    "icu_deaths = pd.read_pickle('pickle_vars/icu_deaths.pkl') # List\n",
    "\n",
    "stay_counts = pd.read_pickle('pickle_vars/stay_counts.pkl') # HADM:count"
   ]
  },
  {
   "cell_type": "code",
   "execution_count": 82,
   "id": "851d1035-10a8-42c1-956e-705d3b74370a",
   "metadata": {
    "tags": []
   },
   "outputs": [],
   "source": [
    "cohort_stays = list(first_stays_dict.values())\n",
    "cohort_hadms = list(first_stays_dict.keys())"
   ]
  },
  {
   "cell_type": "code",
   "execution_count": 83,
   "id": "43ce0d23-791b-4373-8d9c-fb6c9387342d",
   "metadata": {
    "tags": []
   },
   "outputs": [
    {
     "name": "stdout",
     "output_type": "stream",
     "text": [
      "CPU times: user 40min 38s, sys: 6.3 s, total: 40min 44s\n",
      "Wall time: 40min 44s\n"
     ]
    }
   ],
   "source": [
    "%%time\n",
    "#df = df.query('ICUSTAY_ID.isin(@cohort_stays) & HADM_ID.isin(@cohort_hadms)')\n",
    "df['cohort'] = df.apply(lambda row: 1 if (row['ICUSTAY_ID'] in cohort_stays and row['HADM_ID'] in cohort_hadms) else 0, axis=1)\n",
    "\n",
    "df['in_h_death'] = df['HADM_ID'].apply(lambda hadmid: 1 if hadmid in mortalities else 0)\n",
    "\n",
    "df['in_icu_death'] = df['ICUSTAY_ID'].apply(lambda icustay: 1 if icustay in icu_deaths else 0 )\n",
    "\n",
    "df['readmit'] = df['HADM_ID'].apply(lambda hadmid: stay_counts[hadmid] - 1)\n",
    "\n",
    "df['outcome'] = df['HADM_ID'].apply(lambda hadmid: 1 if (hadmid not in mortalities and stay_counts[hadmid]==1) else 0)"
   ]
  },
  {
   "cell_type": "code",
   "execution_count": 85,
   "id": "4145ccfa-5b58-4e97-b045-3121055e09b6",
   "metadata": {
    "tags": []
   },
   "outputs": [
    {
     "name": "stdout",
     "output_type": "stream",
     "text": [
      "There are 14435 unique ICU stays, of which\n",
      "13607 are in the cohort.\n"
     ]
    }
   ],
   "source": [
    "print(\"There are %d unique ICU stays, of which\" %df.ICUSTAY_ID.nunique())\n",
    "print(\"%d are in the cohort.\" %df[df['cohort']==1].ICUSTAY_ID.nunique())"
   ]
  },
  {
   "cell_type": "markdown",
   "id": "ff8daec9-a560-4832-a4aa-d5660788c5c9",
   "metadata": {},
   "source": [
    "Save df as pkl"
   ]
  },
  {
   "cell_type": "code",
   "execution_count": 86,
   "id": "920bc28e-3aff-4304-a907-415df854721f",
   "metadata": {
    "tags": []
   },
   "outputs": [],
   "source": [
    "df.to_pickle('pickle_vars/chartevents_for_cohort.pkl.xz')"
   ]
  }
 ],
 "metadata": {
  "kernelspec": {
   "display_name": "Python 3 (ipykernel)",
   "language": "python",
   "name": "python3"
  },
  "language_info": {
   "codemirror_mode": {
    "name": "ipython",
    "version": 3
   },
   "file_extension": ".py",
   "mimetype": "text/x-python",
   "name": "python",
   "nbconvert_exporter": "python",
   "pygments_lexer": "ipython3",
   "version": "3.11.5"
  }
 },
 "nbformat": 4,
 "nbformat_minor": 5
}
